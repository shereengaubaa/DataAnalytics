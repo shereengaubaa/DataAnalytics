{
 "cells": [
  {
   "cell_type": "markdown",
   "id": "9f5babef",
   "metadata": {},
   "source": [
    "### importing libraries \n"
   ]
  },
  {
   "cell_type": "code",
   "execution_count": 9,
   "id": "813ca201",
   "metadata": {},
   "outputs": [],
   "source": [
    "import numpy as np\n",
    "import pandas as pd\n",
    "import matplotlib.pyplot as plt\n",
    "import seaborn as sns\n",
    "from sklearn.model_selection import train_test_split\n",
    "from sklearn.ensemble import RandomForestRegressor\n",
    "from sklearn import metrics #how aacurate our model is\n",
    "\n"
   ]
  },
  {
   "cell_type": "markdown",
   "id": "fbe98628",
   "metadata": {},
   "source": [
    "### loading csv as a pandas dataframe"
   ]
  },
  {
   "cell_type": "code",
   "execution_count": 10,
   "id": "446599a6",
   "metadata": {},
   "outputs": [],
   "source": [
    "gold_data= pd.read_csv(\"D:\\ds\\gld_price_data.csv\")"
   ]
  },
  {
   "cell_type": "markdown",
   "id": "58bb032f",
   "metadata": {},
   "source": [
    "### print data"
   ]
  },
  {
   "cell_type": "code",
   "execution_count": 11,
   "id": "506573fe",
   "metadata": {},
   "outputs": [
    {
     "data": {
      "text/html": [
       "<div>\n",
       "<style scoped>\n",
       "    .dataframe tbody tr th:only-of-type {\n",
       "        vertical-align: middle;\n",
       "    }\n",
       "\n",
       "    .dataframe tbody tr th {\n",
       "        vertical-align: top;\n",
       "    }\n",
       "\n",
       "    .dataframe thead th {\n",
       "        text-align: right;\n",
       "    }\n",
       "</style>\n",
       "<table border=\"1\" class=\"dataframe\">\n",
       "  <thead>\n",
       "    <tr style=\"text-align: right;\">\n",
       "      <th></th>\n",
       "      <th>Date</th>\n",
       "      <th>SPX</th>\n",
       "      <th>GLD</th>\n",
       "      <th>USO</th>\n",
       "      <th>SLV</th>\n",
       "      <th>EUR/USD</th>\n",
       "    </tr>\n",
       "  </thead>\n",
       "  <tbody>\n",
       "    <tr>\n",
       "      <th>0</th>\n",
       "      <td>1/2/2008</td>\n",
       "      <td>1447.160034</td>\n",
       "      <td>84.860001</td>\n",
       "      <td>78.470001</td>\n",
       "      <td>15.180</td>\n",
       "      <td>1.471692</td>\n",
       "    </tr>\n",
       "    <tr>\n",
       "      <th>1</th>\n",
       "      <td>1/3/2008</td>\n",
       "      <td>1447.160034</td>\n",
       "      <td>85.570000</td>\n",
       "      <td>78.370003</td>\n",
       "      <td>15.285</td>\n",
       "      <td>1.474491</td>\n",
       "    </tr>\n",
       "    <tr>\n",
       "      <th>2</th>\n",
       "      <td>1/4/2008</td>\n",
       "      <td>1411.630005</td>\n",
       "      <td>85.129997</td>\n",
       "      <td>77.309998</td>\n",
       "      <td>15.167</td>\n",
       "      <td>1.475492</td>\n",
       "    </tr>\n",
       "    <tr>\n",
       "      <th>3</th>\n",
       "      <td>1/7/2008</td>\n",
       "      <td>1416.180054</td>\n",
       "      <td>84.769997</td>\n",
       "      <td>75.500000</td>\n",
       "      <td>15.053</td>\n",
       "      <td>1.468299</td>\n",
       "    </tr>\n",
       "    <tr>\n",
       "      <th>4</th>\n",
       "      <td>1/8/2008</td>\n",
       "      <td>1390.189941</td>\n",
       "      <td>86.779999</td>\n",
       "      <td>76.059998</td>\n",
       "      <td>15.590</td>\n",
       "      <td>1.557099</td>\n",
       "    </tr>\n",
       "  </tbody>\n",
       "</table>\n",
       "</div>"
      ],
      "text/plain": [
       "       Date          SPX        GLD        USO     SLV   EUR/USD\n",
       "0  1/2/2008  1447.160034  84.860001  78.470001  15.180  1.471692\n",
       "1  1/3/2008  1447.160034  85.570000  78.370003  15.285  1.474491\n",
       "2  1/4/2008  1411.630005  85.129997  77.309998  15.167  1.475492\n",
       "3  1/7/2008  1416.180054  84.769997  75.500000  15.053  1.468299\n",
       "4  1/8/2008  1390.189941  86.779999  76.059998  15.590  1.557099"
      ]
     },
     "execution_count": 11,
     "metadata": {},
     "output_type": "execute_result"
    }
   ],
   "source": [
    "gold_data.head()"
   ]
  },
  {
   "cell_type": "markdown",
   "id": "269d1455",
   "metadata": {},
   "source": [
    "#### trying to predict the gold price w SLV, SPX, USO, EUR/USD"
   ]
  },
  {
   "cell_type": "code",
   "execution_count": 12,
   "id": "d078a04a",
   "metadata": {},
   "outputs": [
    {
     "data": {
      "text/plain": [
       "13740"
      ]
     },
     "execution_count": 12,
     "metadata": {},
     "output_type": "execute_result"
    }
   ],
   "source": [
    "gold_data.size"
   ]
  },
  {
   "cell_type": "code",
   "execution_count": 13,
   "id": "4dd7db89",
   "metadata": {},
   "outputs": [
    {
     "data": {
      "text/html": [
       "<div>\n",
       "<style scoped>\n",
       "    .dataframe tbody tr th:only-of-type {\n",
       "        vertical-align: middle;\n",
       "    }\n",
       "\n",
       "    .dataframe tbody tr th {\n",
       "        vertical-align: top;\n",
       "    }\n",
       "\n",
       "    .dataframe thead th {\n",
       "        text-align: right;\n",
       "    }\n",
       "</style>\n",
       "<table border=\"1\" class=\"dataframe\">\n",
       "  <thead>\n",
       "    <tr style=\"text-align: right;\">\n",
       "      <th></th>\n",
       "      <th>Date</th>\n",
       "      <th>SPX</th>\n",
       "      <th>GLD</th>\n",
       "      <th>USO</th>\n",
       "      <th>SLV</th>\n",
       "      <th>EUR/USD</th>\n",
       "    </tr>\n",
       "  </thead>\n",
       "  <tbody>\n",
       "    <tr>\n",
       "      <th>2285</th>\n",
       "      <td>5/8/2018</td>\n",
       "      <td>2671.919922</td>\n",
       "      <td>124.589996</td>\n",
       "      <td>14.0600</td>\n",
       "      <td>15.5100</td>\n",
       "      <td>1.186789</td>\n",
       "    </tr>\n",
       "    <tr>\n",
       "      <th>2286</th>\n",
       "      <td>5/9/2018</td>\n",
       "      <td>2697.790039</td>\n",
       "      <td>124.330002</td>\n",
       "      <td>14.3700</td>\n",
       "      <td>15.5300</td>\n",
       "      <td>1.184722</td>\n",
       "    </tr>\n",
       "    <tr>\n",
       "      <th>2287</th>\n",
       "      <td>5/10/2018</td>\n",
       "      <td>2723.070068</td>\n",
       "      <td>125.180000</td>\n",
       "      <td>14.4100</td>\n",
       "      <td>15.7400</td>\n",
       "      <td>1.191753</td>\n",
       "    </tr>\n",
       "    <tr>\n",
       "      <th>2288</th>\n",
       "      <td>5/14/2018</td>\n",
       "      <td>2730.129883</td>\n",
       "      <td>124.489998</td>\n",
       "      <td>14.3800</td>\n",
       "      <td>15.5600</td>\n",
       "      <td>1.193118</td>\n",
       "    </tr>\n",
       "    <tr>\n",
       "      <th>2289</th>\n",
       "      <td>5/16/2018</td>\n",
       "      <td>2725.780029</td>\n",
       "      <td>122.543800</td>\n",
       "      <td>14.4058</td>\n",
       "      <td>15.4542</td>\n",
       "      <td>1.182033</td>\n",
       "    </tr>\n",
       "  </tbody>\n",
       "</table>\n",
       "</div>"
      ],
      "text/plain": [
       "           Date          SPX         GLD      USO      SLV   EUR/USD\n",
       "2285   5/8/2018  2671.919922  124.589996  14.0600  15.5100  1.186789\n",
       "2286   5/9/2018  2697.790039  124.330002  14.3700  15.5300  1.184722\n",
       "2287  5/10/2018  2723.070068  125.180000  14.4100  15.7400  1.191753\n",
       "2288  5/14/2018  2730.129883  124.489998  14.3800  15.5600  1.193118\n",
       "2289  5/16/2018  2725.780029  122.543800  14.4058  15.4542  1.182033"
      ]
     },
     "execution_count": 13,
     "metadata": {},
     "output_type": "execute_result"
    }
   ],
   "source": [
    "gold_data.tail()"
   ]
  },
  {
   "cell_type": "code",
   "execution_count": 14,
   "id": "344c3e02",
   "metadata": {},
   "outputs": [
    {
     "data": {
      "text/plain": [
       "(2290, 6)"
      ]
     },
     "execution_count": 14,
     "metadata": {},
     "output_type": "execute_result"
    }
   ],
   "source": [
    "gold_data.shape"
   ]
  },
  {
   "cell_type": "code",
   "execution_count": 15,
   "id": "f7080efb",
   "metadata": {},
   "outputs": [
    {
     "name": "stdout",
     "output_type": "stream",
     "text": [
      "<class 'pandas.core.frame.DataFrame'>\n",
      "RangeIndex: 2290 entries, 0 to 2289\n",
      "Data columns (total 6 columns):\n",
      " #   Column   Non-Null Count  Dtype  \n",
      "---  ------   --------------  -----  \n",
      " 0   Date     2290 non-null   object \n",
      " 1   SPX      2290 non-null   float64\n",
      " 2   GLD      2290 non-null   float64\n",
      " 3   USO      2290 non-null   float64\n",
      " 4   SLV      2290 non-null   float64\n",
      " 5   EUR/USD  2290 non-null   float64\n",
      "dtypes: float64(5), object(1)\n",
      "memory usage: 107.5+ KB\n"
     ]
    }
   ],
   "source": [
    "gold_data.info()"
   ]
  },
  {
   "cell_type": "markdown",
   "id": "251e7abb",
   "metadata": {},
   "source": [
    "### check missing values"
   ]
  },
  {
   "cell_type": "code",
   "execution_count": 16,
   "id": "e0e6247f",
   "metadata": {},
   "outputs": [
    {
     "data": {
      "text/plain": [
       "Date       0\n",
       "SPX        0\n",
       "GLD        0\n",
       "USO        0\n",
       "SLV        0\n",
       "EUR/USD    0\n",
       "dtype: int64"
      ]
     },
     "execution_count": 16,
     "metadata": {},
     "output_type": "execute_result"
    }
   ],
   "source": [
    "gold_data.isnull().sum()   # hence no missing values"
   ]
  },
  {
   "cell_type": "markdown",
   "id": "29b6e3a5",
   "metadata": {},
   "source": [
    "### stats\n",
    "\n"
   ]
  },
  {
   "cell_type": "code",
   "execution_count": 17,
   "id": "297479d3",
   "metadata": {},
   "outputs": [
    {
     "data": {
      "text/html": [
       "<div>\n",
       "<style scoped>\n",
       "    .dataframe tbody tr th:only-of-type {\n",
       "        vertical-align: middle;\n",
       "    }\n",
       "\n",
       "    .dataframe tbody tr th {\n",
       "        vertical-align: top;\n",
       "    }\n",
       "\n",
       "    .dataframe thead th {\n",
       "        text-align: right;\n",
       "    }\n",
       "</style>\n",
       "<table border=\"1\" class=\"dataframe\">\n",
       "  <thead>\n",
       "    <tr style=\"text-align: right;\">\n",
       "      <th></th>\n",
       "      <th>SPX</th>\n",
       "      <th>GLD</th>\n",
       "      <th>USO</th>\n",
       "      <th>SLV</th>\n",
       "      <th>EUR/USD</th>\n",
       "    </tr>\n",
       "  </thead>\n",
       "  <tbody>\n",
       "    <tr>\n",
       "      <th>count</th>\n",
       "      <td>2290.000000</td>\n",
       "      <td>2290.000000</td>\n",
       "      <td>2290.000000</td>\n",
       "      <td>2290.000000</td>\n",
       "      <td>2290.000000</td>\n",
       "    </tr>\n",
       "    <tr>\n",
       "      <th>mean</th>\n",
       "      <td>1654.315776</td>\n",
       "      <td>122.732875</td>\n",
       "      <td>31.842221</td>\n",
       "      <td>20.084997</td>\n",
       "      <td>1.283653</td>\n",
       "    </tr>\n",
       "    <tr>\n",
       "      <th>std</th>\n",
       "      <td>519.111540</td>\n",
       "      <td>23.283346</td>\n",
       "      <td>19.523517</td>\n",
       "      <td>7.092566</td>\n",
       "      <td>0.131547</td>\n",
       "    </tr>\n",
       "    <tr>\n",
       "      <th>min</th>\n",
       "      <td>676.530029</td>\n",
       "      <td>70.000000</td>\n",
       "      <td>7.960000</td>\n",
       "      <td>8.850000</td>\n",
       "      <td>1.039047</td>\n",
       "    </tr>\n",
       "    <tr>\n",
       "      <th>25%</th>\n",
       "      <td>1239.874969</td>\n",
       "      <td>109.725000</td>\n",
       "      <td>14.380000</td>\n",
       "      <td>15.570000</td>\n",
       "      <td>1.171313</td>\n",
       "    </tr>\n",
       "    <tr>\n",
       "      <th>50%</th>\n",
       "      <td>1551.434998</td>\n",
       "      <td>120.580002</td>\n",
       "      <td>33.869999</td>\n",
       "      <td>17.268500</td>\n",
       "      <td>1.303297</td>\n",
       "    </tr>\n",
       "    <tr>\n",
       "      <th>75%</th>\n",
       "      <td>2073.010070</td>\n",
       "      <td>132.840004</td>\n",
       "      <td>37.827501</td>\n",
       "      <td>22.882500</td>\n",
       "      <td>1.369971</td>\n",
       "    </tr>\n",
       "    <tr>\n",
       "      <th>max</th>\n",
       "      <td>2872.870117</td>\n",
       "      <td>184.589996</td>\n",
       "      <td>117.480003</td>\n",
       "      <td>47.259998</td>\n",
       "      <td>1.598798</td>\n",
       "    </tr>\n",
       "  </tbody>\n",
       "</table>\n",
       "</div>"
      ],
      "text/plain": [
       "               SPX          GLD          USO          SLV      EUR/USD\n",
       "count  2290.000000  2290.000000  2290.000000  2290.000000  2290.000000\n",
       "mean   1654.315776   122.732875    31.842221    20.084997     1.283653\n",
       "std     519.111540    23.283346    19.523517     7.092566     0.131547\n",
       "min     676.530029    70.000000     7.960000     8.850000     1.039047\n",
       "25%    1239.874969   109.725000    14.380000    15.570000     1.171313\n",
       "50%    1551.434998   120.580002    33.869999    17.268500     1.303297\n",
       "75%    2073.010070   132.840004    37.827501    22.882500     1.369971\n",
       "max    2872.870117   184.589996   117.480003    47.259998     1.598798"
      ]
     },
     "execution_count": 17,
     "metadata": {},
     "output_type": "execute_result"
    }
   ],
   "source": [
    "gold_data.describe()"
   ]
  },
  {
   "cell_type": "markdown",
   "id": "58ae97fe",
   "metadata": {},
   "source": [
    "## correlation \n",
    "\n",
    "#### 1 positive correlation = A inc ---> B inc \n",
    "#### 2 negative correlation= A inc ----> B dec"
   ]
  },
  {
   "cell_type": "code",
   "execution_count": 18,
   "id": "370fa8b1",
   "metadata": {},
   "outputs": [],
   "source": [
    "correlation = gold_data.corr()"
   ]
  },
  {
   "cell_type": "code",
   "execution_count": 19,
   "id": "da3d893f",
   "metadata": {},
   "outputs": [
    {
     "data": {
      "text/plain": [
       "<AxesSubplot:>"
      ]
     },
     "execution_count": 19,
     "metadata": {},
     "output_type": "execute_result"
    },
    {
     "data": {
      "image/png": "[encoded data removed]",
      "text/plain": [
       "<Figure size 576x576 with 2 Axes>"
      ]
     },
     "metadata": {
      "needs_background": "light"
     },
     "output_type": "display_data"
    }
   ],
   "source": [
    "plt.figure(figsize=(8,8))\n",
    "sns.heatmap(correlation, cbar= True, square=True, fmt= '.1f', annot=True, annot_kws={'size':8}, cmap= 'Blues')"
   ]
  },
  {
   "cell_type": "code",
   "execution_count": 20,
   "id": "5451b203",
   "metadata": {},
   "outputs": [
    {
     "name": "stdout",
     "output_type": "stream",
     "text": [
      "SPX        0.049345\n",
      "GLD        1.000000\n",
      "USO       -0.186360\n",
      "SLV        0.866632\n",
      "EUR/USD   -0.024375\n",
      "Name: GLD, dtype: float64\n"
     ]
    }
   ],
   "source": [
    "#printing correlation values for gold\n",
    "\n",
    "print(correlation['GLD'])"
   ]
  },
  {
   "cell_type": "code",
   "execution_count": 21,
   "id": "8f595b63",
   "metadata": {},
   "outputs": [
    {
     "name": "stderr",
     "output_type": "stream",
     "text": [
      "C:\\Users\\Shereen Gauba\\anaconda3\\lib\\site-packages\\seaborn\\distributions.py:2619: FutureWarning: `distplot` is a deprecated function and will be removed in a future version. Please adapt your code to use either `displot` (a figure-level function with similar flexibility) or `histplot` (an axes-level function for histograms).\n",
      "  warnings.warn(msg, FutureWarning)\n"
     ]
    },
    {
     "data": {
      "text/plain": [
       "<AxesSubplot:xlabel='GLD', ylabel='Density'>"
      ]
     },
     "execution_count": 21,
     "metadata": {},
     "output_type": "execute_result"
    },
    {
     "data": {
      "image/png": "[encoded data removed]",
      "text/plain": [
       "<Figure size 432x288 with 1 Axes>"
      ]
     },
     "metadata": {
      "needs_background": "light"
     },
     "output_type": "display_data"
    }
   ],
   "source": [
    "#Checking the price of gold - distribution \n",
    "\n",
    "sns.distplot(gold_data['GLD'], color='blue')"
   ]
  },
  {
   "cell_type": "markdown",
   "id": "2b333a13",
   "metadata": {},
   "source": [
    "# splitting the features (SPX, USO, SLV, EUR/USD) and target (GLD)"
   ]
  },
  {
   "cell_type": "code",
   "execution_count": 22,
   "id": "151e20d8",
   "metadata": {},
   "outputs": [],
   "source": [
    "X= gold_data.drop(['Date', 'GLD'], axis=1)\n",
    "y= gold_data['GLD']"
   ]
  },
  {
   "cell_type": "code",
   "execution_count": 23,
   "id": "4b686c80",
   "metadata": {},
   "outputs": [
    {
     "name": "stdout",
     "output_type": "stream",
     "text": [
      "              SPX        USO      SLV   EUR/USD\n",
      "0     1447.160034  78.470001  15.1800  1.471692\n",
      "1     1447.160034  78.370003  15.2850  1.474491\n",
      "2     1411.630005  77.309998  15.1670  1.475492\n",
      "3     1416.180054  75.500000  15.0530  1.468299\n",
      "4     1390.189941  76.059998  15.5900  1.557099\n",
      "...           ...        ...      ...       ...\n",
      "2285  2671.919922  14.060000  15.5100  1.186789\n",
      "2286  2697.790039  14.370000  15.5300  1.184722\n",
      "2287  2723.070068  14.410000  15.7400  1.191753\n",
      "2288  2730.129883  14.380000  15.5600  1.193118\n",
      "2289  2725.780029  14.405800  15.4542  1.182033\n",
      "\n",
      "[2290 rows x 4 columns]\n"
     ]
    }
   ],
   "source": [
    "print (X)"
   ]
  },
  {
   "cell_type": "code",
   "execution_count": 24,
   "id": "935b89be",
   "metadata": {},
   "outputs": [
    {
     "name": "stdout",
     "output_type": "stream",
     "text": [
      "0        84.860001\n",
      "1        85.570000\n",
      "2        85.129997\n",
      "3        84.769997\n",
      "4        86.779999\n",
      "           ...    \n",
      "2285    124.589996\n",
      "2286    124.330002\n",
      "2287    125.180000\n",
      "2288    124.489998\n",
      "2289    122.543800\n",
      "Name: GLD, Length: 2290, dtype: float64\n"
     ]
    }
   ],
   "source": [
    "print (y)"
   ]
  },
  {
   "cell_type": "markdown",
   "id": "60da096b",
   "metadata": {},
   "source": [
    "# split into train and test\n"
   ]
  },
  {
   "cell_type": "code",
   "execution_count": 25,
   "id": "0a05dd92",
   "metadata": {},
   "outputs": [],
   "source": [
    "X_train, X_test, y_train, y_test = train_test_split(X, y, test_size=.2, random_state=2)"
   ]
  },
  {
   "cell_type": "markdown",
   "id": "4fa8a0c4",
   "metadata": {},
   "source": [
    "# model training - random forest regressor "
   ]
  },
  {
   "cell_type": "code",
   "execution_count": 26,
   "id": "fda236da",
   "metadata": {},
   "outputs": [],
   "source": [
    "regressor = RandomForestRegressor(n_estimators=100) #n_estimators is the no. of trees\n"
   ]
  },
  {
   "cell_type": "code",
   "execution_count": 27,
   "id": "50461f4a",
   "metadata": {},
   "outputs": [
    {
     "data": {
      "text/plain": [
       "RandomForestRegressor()"
      ]
     },
     "execution_count": 27,
     "metadata": {},
     "output_type": "execute_result"
    }
   ],
   "source": [
    "regressor.fit(X_train, y_train)"
   ]
  },
  {
   "cell_type": "markdown",
   "id": "ed5fa84c",
   "metadata": {},
   "source": [
    "## model evaluation"
   ]
  },
  {
   "cell_type": "code",
   "execution_count": 28,
   "id": "b3bfb3a5",
   "metadata": {},
   "outputs": [],
   "source": [
    "test_data_prediction = regressor.predict(X_test)"
   ]
  },
  {
   "cell_type": "code",
   "execution_count": 29,
   "id": "ba36adb4",
   "metadata": {},
   "outputs": [
    {
     "name": "stdout",
     "output_type": "stream",
     "text": [
      "[168.49249913  82.09729973 115.98399982 127.4819005  120.76750156\n",
      " 154.74459731 150.2914981  126.2222004  117.56849862 126.15399997\n",
      " 116.63970124 172.34380097 141.52969855 167.81639957 115.29430017\n",
      " 117.79390046 139.67260299 169.93640083 159.57440273 156.16279988\n",
      " 155.17270074 125.32379975 175.95770032 157.2970038  125.12570048\n",
      "  93.78029954  77.34510025 120.63230009 119.04969897 167.53050028\n",
      "  88.04830092 125.27140049  91.02370061 117.66520006 121.10709922\n",
      " 137.52670164 115.55200112 114.96700053 147.21619999 107.16150102\n",
      " 104.86120252  87.01579762 126.41830044 117.68029995 152.32929838\n",
      " 119.66520014 108.52679985 107.81509827  93.21190035 126.99139802\n",
      "  74.61010037 113.69499921 121.35400018 111.42509901 118.91239895\n",
      " 120.62749949 159.8214005  168.23920106 146.8596963   85.94859904\n",
      "  94.25000044  86.93369924  90.55750036 119.05260063 126.42140058\n",
      " 127.62229967 169.67089976 122.18439934 117.29639908  98.39260013\n",
      " 168.85530109 143.01809776 132.11160231 121.29590241 121.65409965\n",
      " 119.64660059 114.50960182 118.20840076 106.95900102 127.86680105\n",
      " 113.84779958 106.69959984 117.0817005  119.63239935  88.85560038\n",
      "  88.0752985  146.99890243 127.52379984 113.65310002 110.34849844\n",
      " 107.95289891  76.88399927 170.09030225 114.0907992  121.6697992\n",
      " 128.00750115 154.92709777  91.58839961 135.35910106 158.75000363\n",
      " 125.60360037 125.60320047 130.53800126 114.87400136 119.74430011\n",
      "  92.06319974 110.28289892 166.50589889 157.47869917 114.26989963\n",
      " 106.68080117  79.38159992 113.28140037 125.77350083 107.18939923\n",
      " 119.12120084 155.26780319 159.36949848 119.89379999 134.48000334\n",
      " 101.65129962 117.69199819 119.19010057 113.07470088 102.75269912\n",
      " 160.10469799  98.61730036 146.29249866 125.51060104 170.00239902\n",
      " 125.29539915 127.41019748 127.37840167 113.58449943 112.94480065\n",
      " 123.723199   102.1227987   89.21470012 124.64529951 101.70669937\n",
      " 106.87899918 113.41130098 117.58730097  99.3872993  121.47250074\n",
      " 163.72439948  87.23229834 106.64069966 117.24230115 127.73860158\n",
      " 124.13620023  80.59409953 120.48580062 157.81689758  88.04029959\n",
      " 110.25939975 118.83979933 172.91099832 102.986799   105.47510064\n",
      " 122.49970015 158.38089717  87.31629838  93.20430043 112.65250024\n",
      " 177.37179951 114.26449997 119.24810063  94.74280089 125.5739\n",
      " 165.99370129 114.80570085 116.79690167  88.12159854 149.17230132\n",
      " 120.2360991   89.46309969 112.08819962 117.22250074 118.71380139\n",
      "  88.064199    94.24639991 116.89840039 118.45990202 120.28870087\n",
      " 126.76129841 121.90449988 149.7673993  165.89480072 118.55129972\n",
      " 120.34380119 150.68580044 118.40439961 173.17919824 105.6386995\n",
      " 104.96690105 149.41930129 113.75810052 124.94710111 148.22580021\n",
      " 119.58670086 115.32340065 112.4374997  113.53070179 141.88870125\n",
      " 117.75729768 102.90780047 115.88200131 104.02620186  98.60139997\n",
      " 117.5020009   90.71780005  91.37910035 153.12929976 102.61419958\n",
      " 154.53060086 114.37150142 137.95950099  90.1813981  115.53809937\n",
      " 114.62759962 122.78170058 121.80040026 165.30530089  92.87149945\n",
      " 135.79650132 121.37589905 120.78730059 104.55390026 143.5134028\n",
      " 121.55689932 116.59170033 113.37350092 127.14549752 122.4773996\n",
      " 125.71919932 121.2442004   86.71879901 132.23000161 144.98040142\n",
      "  92.71329961 160.79149912 159.14020243 126.47759888 165.88179962\n",
      " 108.88669964 109.35090076 103.6614984   94.43970107 127.62620251\n",
      " 106.98970047 163.38809947 121.56030062 131.97470011 130.57750094\n",
      " 160.86940059  90.16639862 175.01660212 127.82650007 126.67539879\n",
      "  86.5692996  124.57329921 150.59469766  89.70180011 106.65709977\n",
      " 108.97269971  84.56929911 135.97409997 155.02300232 138.86580292\n",
      "  74.58150026 152.50370116 126.14169993 126.71509985 127.58009874\n",
      " 108.60699977 156.65610011 114.38560122 116.94750131 125.07589898\n",
      " 154.08690105 121.38080023 156.29839907  92.7831002  125.49590148\n",
      " 125.60980022  87.78230035  92.06969931 126.19029912 128.60430384\n",
      " 113.1127009  117.52379723 120.9872     127.2224984  119.71230095\n",
      " 137.33430105  93.8669991  120.14780033 113.1533012   94.3784996\n",
      " 108.86879972  87.42709922 109.01959926  89.54699986  92.22090044\n",
      " 131.72800322 162.36310006  89.33929997 119.65150085 133.35170152\n",
      " 123.86650014 128.33330137 101.99979835  89.0116987  132.07540059\n",
      " 120.18250026 108.76620007 169.09370121 115.1425006   86.50869916\n",
      " 118.81650065  91.1316993  161.61709972 116.42810028 121.58210047\n",
      " 160.10559766 120.23239945 112.80669967 108.38109865 126.60079984\n",
      "  76.42280009 102.97859982 127.39870252 121.86709911  92.58589991\n",
      " 131.38540066 118.19510144 115.95189947 154.44260293 159.76510105\n",
      " 110.07529953 152.52189721 119.47480114 160.19890012 118.53230033\n",
      " 158.48840048 115.06579948 116.60750021 150.21109927 114.84690057\n",
      " 125.71279878 165.97999987 117.54980018 124.93789961 153.30720369\n",
      " 153.63070245 132.14990062 114.77420006 121.27220219 125.0508001\n",
      "  89.79230037 123.46589991 155.32930157 111.60110014 106.54709988\n",
      " 161.49490129 118.54229956 165.62979977 134.08480048 115.02869995\n",
      " 152.99879896 168.72189971 114.60999976 113.96730154 158.48069886\n",
      "  85.30889873 127.16220034 128.01070086 128.88470031 124.28250064\n",
      " 123.85590045  90.68690037 153.15920005  97.12639978 137.41040042\n",
      "  88.913999   106.69749991 115.02590084 112.41320071 124.39839914\n",
      "  91.37559873 125.33320111 162.4238989  119.6261993  164.90930063\n",
      " 126.73089849 112.31640017 127.75439925  94.82409931  91.02249975\n",
      " 103.17939912 120.80349997  83.04709951 126.27939994 160.66110486\n",
      " 117.56680125 118.13869978 119.73330011 122.75189996 119.99340133\n",
      " 121.51129954 117.83750061 106.79209983 148.56350033 126.02599838\n",
      " 115.75130103  74.33980006 127.79670111 154.12190053 122.32830033\n",
      " 125.60270085  88.9351997  103.56109888 124.35380039 120.29969988\n",
      "  73.4760007  151.48400018 121.16550041 104.79360001  86.25939773\n",
      " 115.00239895 172.30189853 119.81370022 161.21219784 113.11799939\n",
      " 121.37640054 118.59050127  95.92029992 118.6765002  125.96060046\n",
      " 118.50029939  96.17420118 154.15330189 122.1368003  147.39789987\n",
      " 159.06450249 113.73790025 122.42059956 150.88269842 127.43850002\n",
      " 165.83500036 135.83650044 119.91619961 167.41289831 108.21829944\n",
      " 121.73309852 138.54170124 107.53429912]\n"
     ]
    }
   ],
   "source": [
    "print(test_data_prediction)"
   ]
  },
  {
   "cell_type": "code",
   "execution_count": 30,
   "id": "4b577558",
   "metadata": {},
   "outputs": [
    {
     "name": "stdout",
     "output_type": "stream",
     "text": [
      "0.9887116674788213\n"
     ]
    }
   ],
   "source": [
    "error_score= metrics.r2_score(y_test, test_data_prediction)\n",
    "print(error_score)"
   ]
  },
  {
   "cell_type": "markdown",
   "id": "5dd09cd3",
   "metadata": {},
   "source": [
    "## plot - actual vs predicted"
   ]
  },
  {
   "cell_type": "code",
   "execution_count": 31,
   "id": "24156f96",
   "metadata": {},
   "outputs": [],
   "source": [
    "y_test= list(y_test)\n"
   ]
  },
  {
   "cell_type": "code",
   "execution_count": 32,
   "id": "6b3b706d",
   "metadata": {},
   "outputs": [
    {
     "data": {
      "text/plain": [
       "Text(0, 0.5, 'GLD price')"
      ]
     },
     "execution_count": 32,
     "metadata": {},
     "output_type": "execute_result"
    },
    {
     "data": {
      "image/png": "[encoded data removed]",
      "text/plain": [
       "<Figure size 432x288 with 1 Axes>"
      ]
     },
     "metadata": {
      "needs_background": "light"
     },
     "output_type": "display_data"
    }
   ],
   "source": [
    "plt.plot(y_test, color= 'Blue', label='actual value')\n",
    "plt.plot(test_data_prediction, color= 'green', label= 'predicted value')\n",
    "plt.title('actual vs predicted price')\n",
    "plt.xlabel('no of values')\n",
    "plt.ylabel('GLD price')\n"
   ]
  },
  {
   "cell_type": "code",
   "execution_count": 33,
   "id": "929560d1",
   "metadata": {},
   "outputs": [
    {
     "data": {
      "text/plain": [
       "[<matplotlib.lines.Line2D at 0x209da4c8160>]"
      ]
     },
     "execution_count": 33,
     "metadata": {},
     "output_type": "execute_result"
    },
    {
     "data": {
      "image/png": "[encoded data removed]",
      "text/plain": [
       "<Figure size 432x288 with 1 Axes>"
      ]
     },
     "metadata": {
      "needs_background": "light"
     },
     "output_type": "display_data"
    }
   ],
   "source": [
    "plt.plot(test_data_prediction, color= 'green', label= 'predicted value')"
   ]
  },
  {
   "cell_type": "code",
   "execution_count": 34,
   "id": "57e5dd3a",
   "metadata": {},
   "outputs": [
    {
     "data": {
      "text/plain": [
       "[<matplotlib.lines.Line2D at 0x209dbbe9d90>]"
      ]
     },
     "execution_count": 34,
     "metadata": {},
     "output_type": "execute_result"
    },
    {
     "data": {
      "image/png": "[encoded data removed]",
      "text/plain": [
       "<Figure size 432x288 with 1 Axes>"
      ]
     },
     "metadata": {
      "needs_background": "light"
     },
     "output_type": "display_data"
    }
   ],
   "source": [
    "plt.plot(y_test, color= 'Blue', label='actual value')"
   ]
  },
  {
   "cell_type": "code",
   "execution_count": null,
   "id": "da8a7f4f",
   "metadata": {},
   "outputs": [],
   "source": []
  }
 ],
 "metadata": {
  "kernelspec": {
   "display_name": "Python 3 (ipykernel)",
   "language": "python",
   "name": "python3"
  },
  "language_info": {
   "codemirror_mode": {
    "name": "ipython",
    "version": 3
   },
   "file_extension": ".py",
   "mimetype": "text/x-python",
   "name": "python",
   "nbconvert_exporter": "python",
   "pygments_lexer": "ipython3",
   "version": "3.9.7"
  }
 },
 "nbformat": 4,
 "nbformat_minor": 5
}
